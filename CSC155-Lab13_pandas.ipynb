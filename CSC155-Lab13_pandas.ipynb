{
  "cells": [
    {
      "cell_type": "markdown",
      "metadata": {
        "id": "view-in-github",
        "colab_type": "text"
      },
      "source": [
        "<a href=\"https://colab.research.google.com/github/Raghav510/kattis-solutions/blob/main/CSC155-Lab13_pandas.ipynb\" target=\"_parent\"><img src=\"https://colab.research.google.com/assets/colab-badge.svg\" alt=\"Open In Colab\"/></a>"
      ]
    },
    {
      "cell_type": "markdown",
      "metadata": {
        "id": "33QrFbNtL5bM"
      },
      "source": [
        "<h1 style='text-align:center'>Pandas Lab</h1>\n",
        "<h3 style='text-align:center'>Featuring Jupyter Notebook</h3>\n",
        "\n",
        "<h2>Overview</h2>\n",
        "<p>In this lab, you will be working with a dataset that contains information about various movies. This dataset includes details such as the movie title, director, genre, year of release, and IMDb rating. Your task will be to perform data manipulation and analysis using Pandas, a powerful data analysis library in Python. This assignment is designed to enhance your data handling skills and get you comfortable with basic data analysis techniques.  You may have to look up some functions.  You are also welcome to use an AI assistant.</p>\n",
        "\n",
        "<h2>Objectives</h2>\n",
        "<ul>\n",
        "    <li>Familiarize yourself with basic data manipulation tasks using Pandas.</li>\n",
        "    <li>Perform simple data analysis and extraction.</li>\n",
        "    <li>Understand how to filter and summarize dataset information.</li>\n",
        "</ul>\n",
        "<h2>Dataset Description</h2>\n",
        "\n",
        "<p>The dataset you will be working with is named movies_data.csv<br> It consists of the following columns:</p>\n",
        "\n",
        "\n",
        "    Movie ID: Unique identifier for each movie.\n",
        "    Title: Title of the movie.\n",
        "    Director: Name of the movie's director.\n",
        "    Genre: Genre of the movie.\n",
        "    Release Year: Year the movie was released.\n",
        "    IMDb Rating: The movie's rating on IMDb.\n",
        "\n",
        "<h2>Tasks</h2>"
      ]
    },
    {
      "cell_type": "markdown",
      "metadata": {
        "id": "YnmO5Ov_L5bP"
      },
      "source": [
        "<h3>Task 1: Setup Your Environment</h3>\n",
        "<ul>\n",
        "    <li>Import the Pandas library as pd.</li>\n",
        "    <li>Read the movies_data.csv file into a Pandas DataFrame named movies_df.</li>\n",
        "    <li>Display the first five rows of the DataFrame to ensure it's loaded correctly.</li>\n",
        "</ul>"
      ]
    },
    {
      "cell_type": "code",
      "source": [
        "# allow colab to access the movies_data.csv file -- Must be run!\n",
        "\n",
        "!gdown https://raw.githubusercontent.com/cjminette/CSC155-colab/refs/heads/main/movies_data.csv\n"
      ],
      "metadata": {
        "id": "i88ZXwg1L7rd",
        "outputId": "a46b3a8a-2d5f-42f4-8b00-e355ae7f43a4",
        "colab": {
          "base_uri": "https://localhost:8080/"
        }
      },
      "execution_count": null,
      "outputs": [
        {
          "output_type": "stream",
          "name": "stdout",
          "text": [
            "Downloading...\n",
            "From: https://raw.githubusercontent.com/cjminette/CSC155-colab/refs/heads/main/movies_data.csv\n",
            "To: /content/movies_data.csv\n",
            "\r  0% 0.00/412 [00:00<?, ?B/s]\r661B [00:00, 1.28MB/s]       \n"
          ]
        }
      ]
    },
    {
      "cell_type": "code",
      "execution_count": 1,
      "metadata": {
        "id": "hRn2CcWWL5bQ",
        "outputId": "ed53b792-a9e3-48e2-8cf1-b12a8bf5b244",
        "colab": {
          "base_uri": "https://localhost:8080/",
          "height": 298
        }
      },
      "outputs": [
        {
          "output_type": "display_data",
          "data": {
            "text/plain": [
              "<IPython.core.display.HTML object>"
            ],
            "text/html": [
              "\n",
              "     <input type=\"file\" id=\"files-5c394b95-16eb-48cd-84c7-2ebc0b915223\" name=\"files[]\" multiple disabled\n",
              "        style=\"border:none\" />\n",
              "     <output id=\"result-5c394b95-16eb-48cd-84c7-2ebc0b915223\">\n",
              "      Upload widget is only available when the cell has been executed in the\n",
              "      current browser session. Please rerun this cell to enable.\n",
              "      </output>\n",
              "      <script>// Copyright 2017 Google LLC\n",
              "//\n",
              "// Licensed under the Apache License, Version 2.0 (the \"License\");\n",
              "// you may not use this file except in compliance with the License.\n",
              "// You may obtain a copy of the License at\n",
              "//\n",
              "//      http://www.apache.org/licenses/LICENSE-2.0\n",
              "//\n",
              "// Unless required by applicable law or agreed to in writing, software\n",
              "// distributed under the License is distributed on an \"AS IS\" BASIS,\n",
              "// WITHOUT WARRANTIES OR CONDITIONS OF ANY KIND, either express or implied.\n",
              "// See the License for the specific language governing permissions and\n",
              "// limitations under the License.\n",
              "\n",
              "/**\n",
              " * @fileoverview Helpers for google.colab Python module.\n",
              " */\n",
              "(function(scope) {\n",
              "function span(text, styleAttributes = {}) {\n",
              "  const element = document.createElement('span');\n",
              "  element.textContent = text;\n",
              "  for (const key of Object.keys(styleAttributes)) {\n",
              "    element.style[key] = styleAttributes[key];\n",
              "  }\n",
              "  return element;\n",
              "}\n",
              "\n",
              "// Max number of bytes which will be uploaded at a time.\n",
              "const MAX_PAYLOAD_SIZE = 100 * 1024;\n",
              "\n",
              "function _uploadFiles(inputId, outputId) {\n",
              "  const steps = uploadFilesStep(inputId, outputId);\n",
              "  const outputElement = document.getElementById(outputId);\n",
              "  // Cache steps on the outputElement to make it available for the next call\n",
              "  // to uploadFilesContinue from Python.\n",
              "  outputElement.steps = steps;\n",
              "\n",
              "  return _uploadFilesContinue(outputId);\n",
              "}\n",
              "\n",
              "// This is roughly an async generator (not supported in the browser yet),\n",
              "// where there are multiple asynchronous steps and the Python side is going\n",
              "// to poll for completion of each step.\n",
              "// This uses a Promise to block the python side on completion of each step,\n",
              "// then passes the result of the previous step as the input to the next step.\n",
              "function _uploadFilesContinue(outputId) {\n",
              "  const outputElement = document.getElementById(outputId);\n",
              "  const steps = outputElement.steps;\n",
              "\n",
              "  const next = steps.next(outputElement.lastPromiseValue);\n",
              "  return Promise.resolve(next.value.promise).then((value) => {\n",
              "    // Cache the last promise value to make it available to the next\n",
              "    // step of the generator.\n",
              "    outputElement.lastPromiseValue = value;\n",
              "    return next.value.response;\n",
              "  });\n",
              "}\n",
              "\n",
              "/**\n",
              " * Generator function which is called between each async step of the upload\n",
              " * process.\n",
              " * @param {string} inputId Element ID of the input file picker element.\n",
              " * @param {string} outputId Element ID of the output display.\n",
              " * @return {!Iterable<!Object>} Iterable of next steps.\n",
              " */\n",
              "function* uploadFilesStep(inputId, outputId) {\n",
              "  const inputElement = document.getElementById(inputId);\n",
              "  inputElement.disabled = false;\n",
              "\n",
              "  const outputElement = document.getElementById(outputId);\n",
              "  outputElement.innerHTML = '';\n",
              "\n",
              "  const pickedPromise = new Promise((resolve) => {\n",
              "    inputElement.addEventListener('change', (e) => {\n",
              "      resolve(e.target.files);\n",
              "    });\n",
              "  });\n",
              "\n",
              "  const cancel = document.createElement('button');\n",
              "  inputElement.parentElement.appendChild(cancel);\n",
              "  cancel.textContent = 'Cancel upload';\n",
              "  const cancelPromise = new Promise((resolve) => {\n",
              "    cancel.onclick = () => {\n",
              "      resolve(null);\n",
              "    };\n",
              "  });\n",
              "\n",
              "  // Wait for the user to pick the files.\n",
              "  const files = yield {\n",
              "    promise: Promise.race([pickedPromise, cancelPromise]),\n",
              "    response: {\n",
              "      action: 'starting',\n",
              "    }\n",
              "  };\n",
              "\n",
              "  cancel.remove();\n",
              "\n",
              "  // Disable the input element since further picks are not allowed.\n",
              "  inputElement.disabled = true;\n",
              "\n",
              "  if (!files) {\n",
              "    return {\n",
              "      response: {\n",
              "        action: 'complete',\n",
              "      }\n",
              "    };\n",
              "  }\n",
              "\n",
              "  for (const file of files) {\n",
              "    const li = document.createElement('li');\n",
              "    li.append(span(file.name, {fontWeight: 'bold'}));\n",
              "    li.append(span(\n",
              "        `(${file.type || 'n/a'}) - ${file.size} bytes, ` +\n",
              "        `last modified: ${\n",
              "            file.lastModifiedDate ? file.lastModifiedDate.toLocaleDateString() :\n",
              "                                    'n/a'} - `));\n",
              "    const percent = span('0% done');\n",
              "    li.appendChild(percent);\n",
              "\n",
              "    outputElement.appendChild(li);\n",
              "\n",
              "    const fileDataPromise = new Promise((resolve) => {\n",
              "      const reader = new FileReader();\n",
              "      reader.onload = (e) => {\n",
              "        resolve(e.target.result);\n",
              "      };\n",
              "      reader.readAsArrayBuffer(file);\n",
              "    });\n",
              "    // Wait for the data to be ready.\n",
              "    let fileData = yield {\n",
              "      promise: fileDataPromise,\n",
              "      response: {\n",
              "        action: 'continue',\n",
              "      }\n",
              "    };\n",
              "\n",
              "    // Use a chunked sending to avoid message size limits. See b/62115660.\n",
              "    let position = 0;\n",
              "    do {\n",
              "      const length = Math.min(fileData.byteLength - position, MAX_PAYLOAD_SIZE);\n",
              "      const chunk = new Uint8Array(fileData, position, length);\n",
              "      position += length;\n",
              "\n",
              "      const base64 = btoa(String.fromCharCode.apply(null, chunk));\n",
              "      yield {\n",
              "        response: {\n",
              "          action: 'append',\n",
              "          file: file.name,\n",
              "          data: base64,\n",
              "        },\n",
              "      };\n",
              "\n",
              "      let percentDone = fileData.byteLength === 0 ?\n",
              "          100 :\n",
              "          Math.round((position / fileData.byteLength) * 100);\n",
              "      percent.textContent = `${percentDone}% done`;\n",
              "\n",
              "    } while (position < fileData.byteLength);\n",
              "  }\n",
              "\n",
              "  // All done.\n",
              "  yield {\n",
              "    response: {\n",
              "      action: 'complete',\n",
              "    }\n",
              "  };\n",
              "}\n",
              "\n",
              "scope.google = scope.google || {};\n",
              "scope.google.colab = scope.google.colab || {};\n",
              "scope.google.colab._files = {\n",
              "  _uploadFiles,\n",
              "  _uploadFilesContinue,\n",
              "};\n",
              "})(self);\n",
              "</script> "
            ]
          },
          "metadata": {}
        },
        {
          "output_type": "stream",
          "name": "stdout",
          "text": [
            "Saving movies_data.csv to movies_data.csv\n",
            "   Movie ID                     Title              Director   Genre  \\\n",
            "0         1  The Shawshank Redemption        Frank Darabont   Drama   \n",
            "1         2             The Godfather  Francis Ford Coppola   Crime   \n",
            "2         3           The Dark Knight     Christopher Nolan  Action   \n",
            "3         4     The Godfather Part II  Francis Ford Coppola   Crime   \n",
            "4         5              12 Angry Men          Sidney Lumet   Drama   \n",
            "\n",
            "   Release Year  IMDb Rating  \n",
            "0          1994          9.3  \n",
            "1          1972          9.2  \n",
            "2          2008          9.0  \n",
            "3          1974          9.0  \n",
            "4          1957          9.0  \n"
          ]
        }
      ],
      "source": [
        "import pandas as pd\n",
        "from google.colab import files\n",
        "uploaded = files.upload()\n",
        "\n",
        "movies_df = pd.read_csv(\"movies_data.csv\")\n",
        "print(movies_df.head())"
      ]
    },
    {
      "cell_type": "markdown",
      "metadata": {
        "id": "19MQ64UIL5bR"
      },
      "source": [
        "<h3>Task 2: Data Exploration</h3>\n",
        "<ul>\n",
        "    <li>Determine and print the total number of movies in the dataset.</li>\n",
        "    <li>List all unique genres found in the dataset.</li>\n",
        "</ul>"
      ]
    },
    {
      "cell_type": "code",
      "execution_count": 2,
      "metadata": {
        "id": "yatXGmJjL5bR",
        "outputId": "c34bdfd6-6deb-4297-b05a-f833afe4d8f6",
        "colab": {
          "base_uri": "https://localhost:8080/"
        }
      },
      "outputs": [
        {
          "output_type": "stream",
          "name": "stdout",
          "text": [
            "10\n",
            "['Drama' 'Crime' 'Action' 'Biography' 'Adventure' 'Western']\n",
            "Action\n"
          ]
        }
      ],
      "source": [
        "print(movies_df[\"Movie ID\"].count())\n",
        "print(movies_df[\"Genre\"].unique())\n",
        "print(movies_df[\"Genre\"].value_counts().idxmin())"
      ]
    },
    {
      "cell_type": "markdown",
      "metadata": {
        "id": "TDbD3hH5L5bR"
      },
      "source": [
        "<h3>Task 3: Data Filtering</h3>\n",
        "<ul>\n",
        "    <li>Extract and display all movies directed by a director of your choice (e.g., \"Steven Spielberg\"). Replace \"Steven Spielberg\" with the name of the director you choose.</li>\n",
        "    <li>Find and display all movies with an IMDb rating higher than 8.0.</li>\n",
        "</ul>"
      ]
    },
    {
      "cell_type": "code",
      "execution_count": 9,
      "metadata": {
        "id": "xpMAiWLVL5bR",
        "outputId": "247a4033-5b03-497e-87c7-e2979d64aad3",
        "colab": {
          "base_uri": "https://localhost:8080/"
        }
      },
      "outputs": [
        {
          "output_type": "stream",
          "name": "stdout",
          "text": [
            "0          Frank Darabont\n",
            "1    Francis Ford Coppola\n",
            "2       Christopher Nolan\n",
            "3    Francis Ford Coppola\n",
            "4            Sidney Lumet\n",
            "5          Petter Jackson\n",
            "6           Peter Jackson\n",
            "7       Quentin Tarantino\n",
            "8            Sergio Leone\n",
            "9           Peter Jackson\n",
            "Name: Director, dtype: object\n",
            "   Movie ID                                              Title  \\\n",
            "0         1                           The Shawshank Redemption   \n",
            "1         2                                      The Godfather   \n",
            "2         3                                    The Dark Knight   \n",
            "3         4                              The Godfather Part II   \n",
            "4         5                                       12 Angry Men   \n",
            "5         6                                   Schindler’s List   \n",
            "6         7      The Lord of the Rings: The Return of the King   \n",
            "7         8                                       Pulp Fiction   \n",
            "8         9                     The Good, the Bad and the Ugly   \n",
            "9        10  The Lord of the Rings: The Fellowship of the Ring   \n",
            "\n",
            "               Director      Genre  Release Year  IMDb Rating  \n",
            "0        Frank Darabont      Drama          1994          9.3  \n",
            "1  Francis Ford Coppola      Crime          1972          9.2  \n",
            "2     Christopher Nolan     Action          2008          9.0  \n",
            "3  Francis Ford Coppola      Crime          1974          9.0  \n",
            "4          Sidney Lumet      Drama          1957          9.0  \n",
            "5      Steven Spielberg  Biography          1993          8.9  \n",
            "6         Peter Jackson  Adventure          2003          8.9  \n",
            "7     Quentin Tarantino      Crime          1994          8.9  \n",
            "8          Sergio Leone    Western          1966          8.8  \n",
            "9         Peter Jackson  Adventure          2001          8.8  \n"
          ]
        }
      ],
      "source": [
        "print(movies_df[\"Director\"].replace(\"Steven Spielberg\", \"Petter Jackson\"))\n",
        "filtering_df = movies_df[movies_df[\"IMDb Rating\"] > 8.0]\n",
        "print(filtering_df)"
      ]
    },
    {
      "cell_type": "markdown",
      "metadata": {
        "id": "4YlbsghDL5bS"
      },
      "source": [
        "<h3>Task 4: Analyzing Data</h3>\n",
        "<ul>\n",
        "    <li>Identify and display the newest movie in the dataset.</li>\n",
        "    <li>Calculate the average IMDb rating of movies in the dataset.</li>\n",
        "    <li>Find the average IMDb rating for each genre.</li>\n",
        "</ul>"
      ]
    },
    {
      "cell_type": "code",
      "execution_count": 7,
      "metadata": {
        "id": "vJr6hH9iL5bS",
        "outputId": "013b9e2d-1442-4cd2-887c-11b8b6d555a8",
        "colab": {
          "base_uri": "https://localhost:8080/"
        }
      },
      "outputs": [
        {
          "output_type": "stream",
          "name": "stdout",
          "text": [
            "Newest Movie: 2008\n",
            "Average IMDb 8.98\n",
            "Average IMDb rating for each  Genre\n",
            "Action       9.000000\n",
            "Adventure    8.850000\n",
            "Biography    8.900000\n",
            "Crime        9.033333\n",
            "Drama        9.150000\n",
            "Western      8.800000\n",
            "Name: IMDb Rating, dtype: float64\n"
          ]
        }
      ],
      "source": [
        "print(\"Newest Movie:\",movies_df[\"Release Year\"].max())\n",
        "print(\"Average IMDb\",movies_df[\"IMDb Rating\"].mean())\n",
        "averagerating_by_genre = movies_df.groupby(\"Genre\")[\"IMDb Rating\"].mean()\n",
        "print(\"Average IMDb rating for each \",averagerating_by_genre)"
      ]
    },
    {
      "cell_type": "markdown",
      "metadata": {
        "id": "cgEB2kaxL5bS"
      },
      "source": [
        "<h3>Submission Guidelines</h3>\n",
        "<h4>Using VSCode:</h4>\n",
        "<ul>\n",
        "    <li>Complete the tasks in a Jupyter notebook.</li>\n",
        "    <li>Submit the notebook file via d2l.</li>\n",
        "</ul>\n",
        "<h4>Using Google Colab:</h4>\n",
        "<ul>\n",
        "    <li>Submit a link to d2l using a Word or text file. This link should share your lab via google colab</li>\n",
        "    <li>To get your link:</li>\n",
        "    <ol>\n",
        "        <li>Click File > Save to Drive or use the Copy to Drive button</li>\n",
        "        <li>Click Share > Anyone with the link > Viewer > Copy link</li>\n",
        "        <li>Paste your link into a Word or text file and submit it</li>\n",
        "    </ol>\n",
        "</ul>\n"
      ]
    }
  ],
  "metadata": {
    "kernelspec": {
      "display_name": "Python 3",
      "language": "python",
      "name": "python3"
    },
    "language_info": {
      "codemirror_mode": {
        "name": "ipython",
        "version": 3
      },
      "file_extension": ".py",
      "mimetype": "text/x-python",
      "name": "python",
      "nbconvert_exporter": "python",
      "pygments_lexer": "ipython3",
      "version": "3.12.1"
    },
    "colab": {
      "provenance": [],
      "include_colab_link": true
    }
  },
  "nbformat": 4,
  "nbformat_minor": 0
}